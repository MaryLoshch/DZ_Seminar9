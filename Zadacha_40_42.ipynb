{
  "nbformat": 4,
  "nbformat_minor": 0,
  "metadata": {
    "colab": {
      "provenance": [],
      "authorship_tag": "ABX9TyOKvSLCBoKmdXPdjcmagQbW",
      "include_colab_link": true
    },
    "kernelspec": {
      "name": "python3",
      "display_name": "Python 3"
    },
    "language_info": {
      "name": "python"
    }
  },
  "cells": [
    {
      "cell_type": "markdown",
      "metadata": {
        "id": "view-in-github",
        "colab_type": "text"
      },
      "source": [
        "<a href=\"https://colab.research.google.com/github/MaryLoshch/DZ_Seminar9/blob/main/Zadacha_40_42.ipynb\" target=\"_parent\"><img src=\"https://colab.research.google.com/assets/colab-badge.svg\" alt=\"Open In Colab\"/></a>"
      ]
    },
    {
      "cell_type": "markdown",
      "source": [
        "###Задача 40. \n",
        "Работать с файлом california_housing_train.csv, который находится в папке\n",
        "sample_data. Определить среднюю стоимость дома, где кол-во людей от 0 до 500 (population)\n"
      ],
      "metadata": {
        "id": "iwMl2mfHM-sd"
      }
    },
    {
      "cell_type": "code",
      "execution_count": 4,
      "metadata": {
        "id": "f8rTg1bvqLsT"
      },
      "outputs": [],
      "source": [
        "import pandas as pd"
      ]
    },
    {
      "cell_type": "code",
      "source": [
        "df = pd.read_csv('sample_data/california_housing_train.csv')\n"
      ],
      "metadata": {
        "id": "fdbdwSCNqQhT"
      },
      "execution_count": 5,
      "outputs": []
    },
    {
      "cell_type": "code",
      "source": [
        "df[(df['population'] < 500) & (df['population'] > 0)]['median_house_value']"
      ],
      "metadata": {
        "colab": {
          "base_uri": "https://localhost:8080/"
        },
        "id": "oC50GyNWNC4V",
        "outputId": "c3099943-036b-4c83-d95b-7a8100373056"
      },
      "execution_count": 11,
      "outputs": [
        {
          "output_type": "execute_result",
          "data": {
            "text/plain": [
              "2         85700.0\n",
              "7         48500.0\n",
              "17        25000.0\n",
              "19        27500.0\n",
              "21        59200.0\n",
              "           ...   \n",
              "16944    130600.0\n",
              "16951     67500.0\n",
              "16969     60000.0\n",
              "16982    107000.0\n",
              "16994     76100.0\n",
              "Name: median_house_value, Length: 1601, dtype: float64"
            ]
          },
          "metadata": {},
          "execution_count": 11
        }
      ]
    },
    {
      "cell_type": "code",
      "source": [
        "df[(df['population'] < 500) & (df['population'] > 0)].median_house_value.mean()"
      ],
      "metadata": {
        "colab": {
          "base_uri": "https://localhost:8080/"
        },
        "id": "9Guyt5ufQZQ1",
        "outputId": "902feaf4-e808-4716-def7-68471a1e8900"
      },
      "execution_count": 12,
      "outputs": [
        {
          "output_type": "execute_result",
          "data": {
            "text/plain": [
              "206683.83635227982"
            ]
          },
          "metadata": {},
          "execution_count": 12
        }
      ]
    },
    {
      "cell_type": "markdown",
      "source": [
        "###Задача 42.\n",
        "Узнать какая максимальная households в зоне минимального значения population"
      ],
      "metadata": {
        "id": "yaASpDTbQyWN"
      }
    },
    {
      "cell_type": "code",
      "source": [
        "min_population = df.population.min()\n"
      ],
      "metadata": {
        "id": "H9rIFym_Rs90"
      },
      "execution_count": 18,
      "outputs": []
    },
    {
      "cell_type": "code",
      "source": [
        "df[df['population']==min_population].households.max()"
      ],
      "metadata": {
        "colab": {
          "base_uri": "https://localhost:8080/"
        },
        "id": "W1U4dXakSKxr",
        "outputId": "3c26976f-8ed1-4c3b-a65c-a417ef33fe2f"
      },
      "execution_count": 21,
      "outputs": [
        {
          "output_type": "execute_result",
          "data": {
            "text/plain": [
              "4.0"
            ]
          },
          "metadata": {},
          "execution_count": 21
        }
      ]
    }
  ]
}